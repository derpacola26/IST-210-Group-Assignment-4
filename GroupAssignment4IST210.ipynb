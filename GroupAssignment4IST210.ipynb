{
  "nbformat": 4,
  "nbformat_minor": 0,
  "metadata": {
    "colab": {
      "name": "GroupAssignment4IST210.ipynb",
      "provenance": []
    },
    "kernelspec": {
      "name": "python3",
      "display_name": "Python 3"
    }
  },
  "cells": [
    {
      "cell_type": "code",
      "metadata": {
        "id": "PCN2i55gzzGl",
        "colab_type": "code",
        "colab": {}
      },
      "source": [
        "import sqlite3 # Once imported in a single notebook, it is available to us throughout the rest of the notebook. \n",
        "# connect to database, if not there, create it.\n",
        "connectionToDatabase = sqlite3.connect('SongPlatformData') \n",
        "cursor = connectionToDatabase.cursor()\n",
        "cursor.execute('''drop table IF EXISTS SongInformation''')\n",
        "connectionToDatabase.commit()\n",
        "\n",
        "cursor.execute('''create table SongInformation (songID text PRIMARY KEY, songTitle text, songArtist text, songAlbumSingle text, songGenre text)''')\n",
        "connectionToDatabase.commit()\n",
        "\n",
        "cursor.execute('''drop table IF EXISTS SongPlays''')\n",
        "connectionToDatabase.commit()\n",
        "\n",
        "cursor.execute('''create table SongPlays (playsID text PRIMARY KEY, songPlays int, dailyPlays int, weeklyPlays int, monthlyPlays int, songID text)''')\n",
        "connectionToDatabase.commit()\n",
        "\n",
        "cursor.execute('''drop table IF EXISTS Podcasts''')\n",
        "connectionToDatabase.commit()\n",
        "\n",
        "cursor.execute('''create table Podcasts (podcastID text PRIMARY KEY, episodeName text, podcastListeners int, podcastGenre text, totalPodcastPlays int, runTime real)''')\n",
        "connectionToDatabase.commit()\n",
        "\n",
        "cursor.execute('''drop table IF EXISTS UserInformation''')\n",
        "connectionToDatabase.commit()\n",
        "\n",
        "cursor.execute('''create table UserInformation (userID text PRIMARY KEY, songsID text, playsID text, podcastID text, accountName text, dateAccCreated text, memberStatus int)''')\n",
        "connectionToDatabase.commit()\n",
        "\n",
        "cursor.execute('''drop table IF EXISTS UserTransaction''')\n",
        "connectionToDatabase.commit()\n",
        "\n",
        "cursor.execute('''create table UserTransaction (cardID text PRIMARY KEY, numberOfPayments int, amountCharged real, nextPaymentDue text)''')\n",
        "connectionToDatabase.commit()"
      ],
      "execution_count": 0,
      "outputs": []
    },
    {
      "cell_type": "code",
      "metadata": {
        "id": "F_OyK764L9tv",
        "colab_type": "code",
        "colab": {}
      },
      "source": [
        "cursor.execute('''insert into SongInformation values (\"126324747\",\"Fuzzy Socks\",\"Andy Rogan\",\"Single\",\"Funk\");''')\n",
        "connectionToDatabase.commit()\n",
        "cursor.execute('''insert into SongInformation values (\"238472733\",\"Beamer Boy\",\"Lil Peep\",\"Single\",\"Trap/Rap\");''')\n",
        "connectionToDatabase.commit()\n",
        "cursor.execute('''insert into SongInformation values (\"273447923\",\"CntrlAltDelete\",\"Bones\",\"Album\",\"Rap\");''')\n",
        "connectionToDatabase.commit()\n",
        "cursor.execute('''insert into SongInformation values (\"735628747\",\"Buckshots\",\"A$AP Rocky\",\"Album\",\"Rap\");''')\n",
        "connectionToDatabase.commit()\n",
        "cursor.execute('''insert into SongInformation values (\"888827472\",\"Bad\",\"Polyphia\",\"Album\",\"Prog Rock\");''')\n",
        "connectionToDatabase.commit()\n"
      ],
      "execution_count": 0,
      "outputs": []
    },
    {
      "cell_type": "code",
      "metadata": {
        "id": "dVQeSsbxPJec",
        "colab_type": "code",
        "colab": {}
      },
      "source": [
        "cursor.execute('''insert into SongPlays values (\"18433083\",3,9,20,50,\"126324747\");''')\n",
        "connectionToDatabase.commit()\n",
        "cursor.execute('''insert into SongPlays values (\"19347494\",4,12,22,100,\"238472733\");''')\n",
        "connectionToDatabase.commit()\n",
        "cursor.execute('''insert into SongPlays values (\"34857399\",2,5,15,\"87\",\"273447923\");''')\n",
        "connectionToDatabase.commit()\n",
        "cursor.execute('''insert into SongPlays values (\"11334455\",5,11,14,24,\"735628747\");''')\n",
        "connectionToDatabase.commit()\n",
        "cursor.execute('''insert into SongPlays values (\"75839273\",3,5,27,82,\"888827472\");''')\n",
        "connectionToDatabase.commit()"
      ],
      "execution_count": 0,
      "outputs": []
    },
    {
      "cell_type": "code",
      "metadata": {
        "id": "OAHsN3CbPS2a",
        "colab_type": "code",
        "colab": {}
      },
      "source": [
        "cursor.execute('''insert into Podcasts values (\"1974829\",\"The World Ending Fart\",3268746,\"Comedy\",684294,\"56:23\");''')\n",
        "connectionToDatabase.commit()\n",
        "cursor.execute('''insert into Podcasts values (\"1238958\",\"War on TikTok\",245767,\"Politics\",45756,\"30:21\");''')\n",
        "connectionToDatabase.commit()\n",
        "cursor.execute('''insert into Podcasts values (\"2392845\",\"Rager at Club Decco\",3126,\"Comedy\",4123,\"21:46\");''')\n",
        "connectionToDatabase.commit()\n",
        "cursor.execute('''insert into Podcasts values (\"8573923\",\"Mythical Meter Maid\",657,\"Comedy\",879,\"45:21\");''')\n",
        "connectionToDatabase.commit()\n",
        "cursor.execute('''insert into Podcasts values (\"3957203\",\"Spiderman's Kryptonite\",345913,\"Comedy\",347,\"40:57\");''')\n",
        "connectionToDatabase.commit()"
      ],
      "execution_count": 0,
      "outputs": []
    },
    {
      "cell_type": "code",
      "metadata": {
        "id": "lGPBPC5tPWvn",
        "colab_type": "code",
        "colab": {}
      },
      "source": [
        "cursor.execute('''insert into UserInformation values (\"573827\",\"2,847\",\"6,258\",\"7\",\"Adler Brown\",\"4/15/19\",\"1\");''')\n",
        "connectionToDatabase.commit()\n",
        "cursor.execute('''insert into UserInformation values (\"986983\",\"472\",\"1,482\",\"12\",\"Jared Bowman\",\"4/23/19\",\"0\");''')\n",
        "connectionToDatabase.commit()\n",
        "cursor.execute('''insert into UserInformation values (\"127349\",\"1,534\",\"2,583\",\"17\",\"Julie Dzielski\",\"6/17/19\",\"0\");''')\n",
        "connectionToDatabase.commit()\n",
        "cursor.execute('''insert into UserInformation values (\"876739\",\"7,219\",\"50,283\",\"30\",\"Ethan Stahley\",\"1/14/19\",\"1\");''')\n",
        "connectionToDatabase.commit()\n",
        "cursor.execute('''insert into UserInformation values (\"163826\",\"297\",\"3,643\",\"2\",\"Carolyn Kenney\",\"7/5/19\",\"1\");''')\n",
        "connectionToDatabase.commit()"
      ],
      "execution_count": 0,
      "outputs": []
    },
    {
      "cell_type": "code",
      "metadata": {
        "id": "YqY2NRW6PZco",
        "colab_type": "code",
        "colab": {}
      },
      "source": [
        "cursor.execute('''insert into UserTransaction values (\"572921\",7,70,\"12/15/19\");''')\n",
        "connectionToDatabase.commit()\n",
        "cursor.execute('''insert into UserTransaction values (\"000000\",0,0,\"null\");''')\n",
        "connectionToDatabase.commit()\n",
        "cursor.execute('''insert into UserTransaction values (\"000001\",0,0,\"null\");''')\n",
        "connectionToDatabase.commit()\n",
        "cursor.execute('''insert into UserTransaction values (\"485938\",10,100,\"12/14/19\");''')\n",
        "connectionToDatabase.commit()\n",
        "cursor.execute('''insert into UserTransaction values (\"493729\",4,40,\"12/5/19\");''')\n",
        "connectionToDatabase.commit()"
      ],
      "execution_count": 0,
      "outputs": []
    },
    {
      "cell_type": "markdown",
      "metadata": {
        "id": "HUMvLCaF1XRb",
        "colab_type": "text"
      },
      "source": [
        "![alt text](https://raw.githubusercontent.com/alicev22/IST-210-workshop/master/example/IST%20210%20Second%20Draft%20ER%20Diagram.png)"
      ]
    },
    {
      "cell_type": "markdown",
      "metadata": {
        "id": "h7fp2AsPegQG",
        "colab_type": "text"
      },
      "source": [
        "What is the average runtime  of all podcast in the comedy genre?"
      ]
    },
    {
      "cell_type": "code",
      "metadata": {
        "id": "ZP0JN5HzaTWY",
        "colab_type": "code",
        "outputId": "71c9ef00-a1b4-478c-9623-ed515eedb75a",
        "colab": {
          "base_uri": "https://localhost:8080/",
          "height": 34
        }
      },
      "source": [
        "cursor.execute('''select podcastGenre, avg(runtime) from Podcasts where podcastGenre = \"Comedy\";''' )\n",
        "for row in cursor.fetchall():\n",
        "  print(row)"
      ],
      "execution_count": 0,
      "outputs": [
        {
          "output_type": "stream",
          "text": [
            "('Comedy', 40.5)\n"
          ],
          "name": "stdout"
        }
      ]
    },
    {
      "cell_type": "markdown",
      "metadata": {
        "id": "zZN_24oYemV5",
        "colab_type": "text"
      },
      "source": [
        "What are the top 5 most played songs?"
      ]
    },
    {
      "cell_type": "code",
      "metadata": {
        "id": "RUDs5vVea4JO",
        "colab_type": "code",
        "outputId": "919e3cda-f089-4946-e785-f5245d4df17e",
        "colab": {
          "base_uri": "https://localhost:8080/",
          "height": 101
        }
      },
      "source": [
        "cursor.execute('''select i.songTitle, p.songPlays from SongPlays p, SongInformation i where p.songID = i.songID order by songPlays DESC limit 5;''' )\n",
        "for row in cursor.fetchall():\n",
        "  print(row)"
      ],
      "execution_count": 0,
      "outputs": [
        {
          "output_type": "stream",
          "text": [
            "('Buckshots', 5)\n",
            "('Beamer Boy', 4)\n",
            "('Fuzzy Socks', 3)\n",
            "('Bad', 3)\n",
            "('CntrlAltDelete', 2)\n"
          ],
          "name": "stdout"
        }
      ]
    },
    {
      "cell_type": "markdown",
      "metadata": {
        "id": "saiOZo9GwvfG",
        "colab_type": "text"
      },
      "source": [
        "This question was the most important to answer due the fact that this would be how our music service would aggregate the most played songs in our catalog, which is what everyone will see when they log in. The results of running the above SQL command gave expected results, with the songID and songPlays being selected to show total plays in descending order. Now, someone viewing the 'top played' category can see what others are listening to and we can see a breakdown of the plays that song has received in the database to judge what artists, albums and songs are worth keeping in the database. "
      ]
    },
    {
      "cell_type": "markdown",
      "metadata": {
        "id": "hY7bVP1HfD6Q",
        "colab_type": "text"
      },
      "source": [
        "What is the total number of listners for the different genres of podcasts?"
      ]
    },
    {
      "cell_type": "code",
      "metadata": {
        "id": "xy818OGmcIVt",
        "colab_type": "code",
        "outputId": "9a36b489-6499-4af7-dc69-14fbed388d72",
        "colab": {
          "base_uri": "https://localhost:8080/",
          "height": 50
        }
      },
      "source": [
        "cursor.execute('''select podcastGenre, sum(podcastListeners) from Podcasts group by podcastGenre;''' )\n",
        "for row in cursor.fetchall():\n",
        "  print(row)"
      ],
      "execution_count": 0,
      "outputs": [
        {
          "output_type": "stream",
          "text": [
            "('Comedy', 3618442)\n",
            "('Politics', 245767)\n"
          ],
          "name": "stdout"
        }
      ]
    }
  ]
}